{
 "cells": [
  {
   "cell_type": "code",
   "execution_count": 118,
   "metadata": {},
   "outputs": [],
   "source": [
    "import cv2\n",
    "import pandas as pd\n",
    "import numpy as np\n",
    "import os\n",
    "import keras\n",
    "from keras.models import Sequential\n",
    "from keras.layers import Dense, Conv2D , MaxPool2D , Flatten , Dropout \n",
    "from keras.optimizers import Adam\n",
    "from sklearn.model_selection import train_test_split"
   ]
  },
  {
   "cell_type": "code",
   "execution_count": 119,
   "metadata": {},
   "outputs": [],
   "source": [
    "from PIL import Image\n",
    "import matplotlib.pyplot as plt\n",
    "from sklearn.model_selection import train_test_split\n",
    "from keras.optimizers import Adam"
   ]
  },
  {
   "cell_type": "code",
   "execution_count": 160,
   "metadata": {},
   "outputs": [],
   "source": [
    "dark_chocolates=os.listdir('./Dark Chocolate/')\n",
    "white_chocolates=os.listdir('./White Chocolate/')"
   ]
  },
  {
   "cell_type": "code",
   "execution_count": 161,
   "metadata": {},
   "outputs": [],
   "source": [
    "chocolates=list(map('./Dark Chocolate/{}'.format,  dark_chocolates))\n",
    "white_chocolates=list(map('./White Chocolate/{}'.format,  white_chocolates))\n"
   ]
  },
  {
   "cell_type": "code",
   "execution_count": 162,
   "metadata": {},
   "outputs": [],
   "source": [
    "labels=np.array(np.ones(69))\n",
    "labels2=np.array(np.zeros(68))\n",
    "labels=np.concatenate((labels,labels2),axis=0)\n",
    "chocolates.extend(white_chocolates)\n",
    "\n"
   ]
  },
  {
   "cell_type": "code",
   "execution_count": 163,
   "metadata": {},
   "outputs": [],
   "source": [
    "data=pd.DataFrame(list(zip(chocolates, labels)),columns =['Chocolates', 'type'])\n"
   ]
  },
  {
   "cell_type": "code",
   "execution_count": 164,
   "metadata": {},
   "outputs": [],
   "source": [
    "data=data.sample(frac=1).reset_index()\n"
   ]
  },
  {
   "cell_type": "code",
   "execution_count": 165,
   "metadata": {},
   "outputs": [],
   "source": [
    "chocolates = np.array([np.array(Image.open(img).convert('RGB').resize((64, 64), Image.ANTIALIAS)) for img in data['Chocolates']])\n",
    "labels=np.array(np.array(data['type']))\n"
   ]
  },
  {
   "cell_type": "code",
   "execution_count": 170,
   "metadata": {},
   "outputs": [],
   "source": [
    "model = Sequential()\n",
    "model.add(Conv2D(64,(3,3),padding=\"same\", activation=\"relu\", input_shape=(64,64,3)))\n",
    "model.add(MaxPool2D())\n",
    "\n",
    "model.add(Conv2D(64, (3,3), padding=\"same\", activation=\"relu\"))\n",
    "model.add(MaxPool2D())\n",
    "model.add(Dropout(0.2))\n",
    "\n",
    "model.add(Flatten())\n",
    "model.add(Dense(128,activation=\"relu\"))\n",
    "model.add(Dense(1, activation=\"sigmoid\"))\n",
    "\n"
   ]
  },
  {
   "cell_type": "code",
   "execution_count": 171,
   "metadata": {},
   "outputs": [],
   "source": [
    "early_stopping=keras.callbacks.EarlyStopping(\n",
    "    min_delta=0.001,\n",
    "    patience=20,\n",
    "    restore_best_weights=True\n",
    ")\n",
    "\n",
    "model.compile(\n",
    "   optimizer='adam',\n",
    "    loss=\"binary_crossentropy\",\n",
    "     metrics = ['accuracy']\n",
    ")"
   ]
  },
  {
   "cell_type": "code",
   "execution_count": 172,
   "metadata": {},
   "outputs": [],
   "source": [
    "X_train,X_test,Y_train,Y_test=train_test_split(chocolates,labels,test_size=0.2)"
   ]
  },
  {
   "cell_type": "code",
   "execution_count": 173,
   "metadata": {},
   "outputs": [
    {
     "name": "stdout",
     "output_type": "stream",
     "text": [
      "Epoch 1/100\n",
      "4/4 [==============================] - 2s 315ms/step - loss: 311.2416 - accuracy: 0.4404 - val_loss: 5.6090 - val_accuracy: 0.6071\n",
      "Epoch 2/100\n",
      "4/4 [==============================] - 1s 259ms/step - loss: 4.4667 - accuracy: 0.4771 - val_loss: 0.6376 - val_accuracy: 0.6429\n",
      "Epoch 3/100\n",
      "4/4 [==============================] - 1s 247ms/step - loss: 0.8448 - accuracy: 0.6055 - val_loss: 0.6158 - val_accuracy: 0.6429\n",
      "Epoch 4/100\n",
      "4/4 [==============================] - 1s 246ms/step - loss: 0.6255 - accuracy: 0.6422 - val_loss: 1.2312 - val_accuracy: 0.4643\n",
      "Epoch 5/100\n",
      "4/4 [==============================] - 1s 266ms/step - loss: 0.6337 - accuracy: 0.7248 - val_loss: 0.5971 - val_accuracy: 0.7857\n",
      "Epoch 6/100\n",
      "4/4 [==============================] - 1s 239ms/step - loss: 0.5131 - accuracy: 0.7615 - val_loss: 0.6401 - val_accuracy: 0.8214\n",
      "Epoch 7/100\n",
      "4/4 [==============================] - 1s 257ms/step - loss: 0.3841 - accuracy: 0.8624 - val_loss: 0.5801 - val_accuracy: 0.7857\n",
      "Epoch 8/100\n",
      "4/4 [==============================] - 1s 249ms/step - loss: 0.3415 - accuracy: 0.8532 - val_loss: 0.4207 - val_accuracy: 0.8214\n",
      "Epoch 9/100\n",
      "4/4 [==============================] - 1s 245ms/step - loss: 0.2542 - accuracy: 0.8991 - val_loss: 1.4252 - val_accuracy: 0.7143\n",
      "Epoch 10/100\n",
      "4/4 [==============================] - 1s 226ms/step - loss: 0.1836 - accuracy: 0.9450 - val_loss: 0.4522 - val_accuracy: 0.8929\n",
      "Epoch 11/100\n",
      "4/4 [==============================] - 1s 267ms/step - loss: 0.1953 - accuracy: 0.9266 - val_loss: 0.4490 - val_accuracy: 0.8214\n",
      "Epoch 12/100\n",
      "4/4 [==============================] - 1s 269ms/step - loss: 0.1503 - accuracy: 0.9266 - val_loss: 0.4589 - val_accuracy: 0.8214\n",
      "Epoch 13/100\n",
      "4/4 [==============================] - 1s 230ms/step - loss: 0.1995 - accuracy: 0.9266 - val_loss: 0.4039 - val_accuracy: 0.8571\n",
      "Epoch 14/100\n",
      "4/4 [==============================] - 1s 228ms/step - loss: 0.2184 - accuracy: 0.8991 - val_loss: 0.8975 - val_accuracy: 0.7857\n",
      "Epoch 15/100\n",
      "4/4 [==============================] - 1s 232ms/step - loss: 0.1761 - accuracy: 0.9358 - val_loss: 0.4100 - val_accuracy: 0.8214\n",
      "Epoch 16/100\n",
      "4/4 [==============================] - 1s 242ms/step - loss: 0.0754 - accuracy: 0.9908 - val_loss: 0.6693 - val_accuracy: 0.8214\n",
      "Epoch 17/100\n",
      "4/4 [==============================] - 1s 230ms/step - loss: 0.0958 - accuracy: 0.9541 - val_loss: 0.6115 - val_accuracy: 0.8214\n",
      "Epoch 18/100\n",
      "4/4 [==============================] - 1s 222ms/step - loss: 0.0597 - accuracy: 0.9817 - val_loss: 0.5935 - val_accuracy: 0.8214\n",
      "Epoch 19/100\n",
      "4/4 [==============================] - 1s 225ms/step - loss: 0.0662 - accuracy: 0.9725 - val_loss: 0.9268 - val_accuracy: 0.7857\n",
      "Epoch 20/100\n",
      "4/4 [==============================] - 1s 229ms/step - loss: 0.0426 - accuracy: 0.9725 - val_loss: 0.7770 - val_accuracy: 0.7857\n",
      "Epoch 21/100\n",
      "4/4 [==============================] - 1s 223ms/step - loss: 0.0290 - accuracy: 0.9908 - val_loss: 0.6643 - val_accuracy: 0.8214\n",
      "Epoch 22/100\n",
      "4/4 [==============================] - 1s 282ms/step - loss: 0.0252 - accuracy: 1.0000 - val_loss: 0.5760 - val_accuracy: 0.8214\n",
      "Epoch 23/100\n",
      "4/4 [==============================] - 1s 251ms/step - loss: 0.0227 - accuracy: 1.0000 - val_loss: 0.5751 - val_accuracy: 0.8214\n",
      "Epoch 24/100\n",
      "4/4 [==============================] - 1s 245ms/step - loss: 0.0199 - accuracy: 1.0000 - val_loss: 0.9514 - val_accuracy: 0.7857\n",
      "Epoch 25/100\n",
      "4/4 [==============================] - 1s 246ms/step - loss: 0.0170 - accuracy: 1.0000 - val_loss: 0.5605 - val_accuracy: 0.8214\n",
      "Epoch 26/100\n",
      "4/4 [==============================] - 1s 241ms/step - loss: 0.0109 - accuracy: 1.0000 - val_loss: 0.5637 - val_accuracy: 0.8214\n",
      "Epoch 27/100\n",
      "4/4 [==============================] - 1s 246ms/step - loss: 0.0076 - accuracy: 1.0000 - val_loss: 0.6468 - val_accuracy: 0.8571\n",
      "Epoch 28/100\n",
      "4/4 [==============================] - 1s 244ms/step - loss: 0.0064 - accuracy: 1.0000 - val_loss: 0.7082 - val_accuracy: 0.8214\n",
      "Epoch 29/100\n",
      "4/4 [==============================] - 1s 249ms/step - loss: 0.0073 - accuracy: 1.0000 - val_loss: 0.6669 - val_accuracy: 0.8571\n",
      "Epoch 30/100\n",
      "4/4 [==============================] - 1s 290ms/step - loss: 0.0064 - accuracy: 1.0000 - val_loss: 0.7327 - val_accuracy: 0.8214\n",
      "Epoch 31/100\n",
      "4/4 [==============================] - 1s 249ms/step - loss: 0.0053 - accuracy: 1.0000 - val_loss: 0.8641 - val_accuracy: 0.8214\n",
      "Epoch 32/100\n",
      "4/4 [==============================] - 1s 255ms/step - loss: 0.0056 - accuracy: 1.0000 - val_loss: 0.8605 - val_accuracy: 0.8214\n",
      "Epoch 33/100\n",
      "4/4 [==============================] - 1s 253ms/step - loss: 0.0040 - accuracy: 1.0000 - val_loss: 0.5911 - val_accuracy: 0.8571\n"
     ]
    }
   ],
   "source": [
    "history = model.fit(X_train,Y_train,epochs = 100 , validation_data = (X_test, Y_test),callbacks=[early_stopping])"
   ]
  },
  {
   "cell_type": "code",
   "execution_count": 174,
   "metadata": {},
   "outputs": [
    {
     "name": "stdout",
     "output_type": "stream",
     "text": [
      "1/1 [==============================] - 0s 70ms/step - loss: 0.4039 - accuracy: 0.8571\n"
     ]
    },
    {
     "data": {
      "text/plain": [
       "[0.40386924147605896, 0.8571428656578064]"
      ]
     },
     "execution_count": 174,
     "metadata": {},
     "output_type": "execute_result"
    }
   ],
   "source": [
    "model.evaluate(X_test,Y_test)"
   ]
  }
 ],
 "metadata": {
  "kernelspec": {
   "display_name": "Python 3.9.6 64-bit",
   "language": "python",
   "name": "python3"
  },
  "language_info": {
   "codemirror_mode": {
    "name": "ipython",
    "version": 3
   },
   "file_extension": ".py",
   "mimetype": "text/x-python",
   "name": "python",
   "nbconvert_exporter": "python",
   "pygments_lexer": "ipython3",
   "version": "3.9.6"
  },
  "orig_nbformat": 4,
  "vscode": {
   "interpreter": {
    "hash": "81794d4967e6c3204c66dcd87b604927b115b27c00565d3d43f05ba2f3a2cb0d"
   }
  }
 },
 "nbformat": 4,
 "nbformat_minor": 2
}
